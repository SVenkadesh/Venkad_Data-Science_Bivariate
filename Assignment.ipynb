{
 "cells": [
  {
   "cell_type": "code",
   "execution_count": 1,
   "id": "1442da02-133b-475b-9eea-9e6cd1a4dec1",
   "metadata": {},
   "outputs": [],
   "source": [
    "import pandas as pd\n",
    "import numpy as np"
   ]
  },
  {
   "cell_type": "code",
   "execution_count": 2,
   "id": "abdd4c24-8446-4d0f-aa51-006801a720aa",
   "metadata": {},
   "outputs": [],
   "source": [
    "import warnings\n",
    "warnings.filterwarnings(\"ignore\")"
   ]
  },
  {
   "cell_type": "code",
   "execution_count": 3,
   "id": "f2cd17da-d8fc-4324-a849-4e5b5e3ceeba",
   "metadata": {},
   "outputs": [],
   "source": [
    "dataset = pd.read_csv(\"Placement.csv\")"
   ]
  },
  {
   "cell_type": "code",
   "execution_count": 4,
   "id": "485b8d30-c158-4ca8-bedb-916fe4507094",
   "metadata": {},
   "outputs": [
    {
     "data": {
      "text/html": [
       "<div>\n",
       "<style scoped>\n",
       "    .dataframe tbody tr th:only-of-type {\n",
       "        vertical-align: middle;\n",
       "    }\n",
       "\n",
       "    .dataframe tbody tr th {\n",
       "        vertical-align: top;\n",
       "    }\n",
       "\n",
       "    .dataframe thead th {\n",
       "        text-align: right;\n",
       "    }\n",
       "</style>\n",
       "<table border=\"1\" class=\"dataframe\">\n",
       "  <thead>\n",
       "    <tr style=\"text-align: right;\">\n",
       "      <th></th>\n",
       "      <th>sl_no</th>\n",
       "      <th>gender</th>\n",
       "      <th>ssc_p</th>\n",
       "      <th>ssc_b</th>\n",
       "      <th>hsc_p</th>\n",
       "      <th>hsc_b</th>\n",
       "      <th>hsc_s</th>\n",
       "      <th>degree_p</th>\n",
       "      <th>degree_t</th>\n",
       "      <th>workex</th>\n",
       "      <th>etest_p</th>\n",
       "      <th>specialisation</th>\n",
       "      <th>mba_p</th>\n",
       "      <th>status</th>\n",
       "      <th>salary</th>\n",
       "    </tr>\n",
       "  </thead>\n",
       "  <tbody>\n",
       "    <tr>\n",
       "      <th>0</th>\n",
       "      <td>1</td>\n",
       "      <td>M</td>\n",
       "      <td>67.00</td>\n",
       "      <td>Others</td>\n",
       "      <td>91.00</td>\n",
       "      <td>Others</td>\n",
       "      <td>Commerce</td>\n",
       "      <td>58.00</td>\n",
       "      <td>Sci&amp;Tech</td>\n",
       "      <td>No</td>\n",
       "      <td>55.0</td>\n",
       "      <td>Mkt&amp;HR</td>\n",
       "      <td>58.80</td>\n",
       "      <td>Placed</td>\n",
       "      <td>270000.0</td>\n",
       "    </tr>\n",
       "    <tr>\n",
       "      <th>1</th>\n",
       "      <td>2</td>\n",
       "      <td>M</td>\n",
       "      <td>79.33</td>\n",
       "      <td>Central</td>\n",
       "      <td>78.33</td>\n",
       "      <td>Others</td>\n",
       "      <td>Science</td>\n",
       "      <td>77.48</td>\n",
       "      <td>Sci&amp;Tech</td>\n",
       "      <td>Yes</td>\n",
       "      <td>86.5</td>\n",
       "      <td>Mkt&amp;Fin</td>\n",
       "      <td>66.28</td>\n",
       "      <td>Placed</td>\n",
       "      <td>200000.0</td>\n",
       "    </tr>\n",
       "    <tr>\n",
       "      <th>2</th>\n",
       "      <td>3</td>\n",
       "      <td>M</td>\n",
       "      <td>65.00</td>\n",
       "      <td>Central</td>\n",
       "      <td>68.00</td>\n",
       "      <td>Central</td>\n",
       "      <td>Arts</td>\n",
       "      <td>64.00</td>\n",
       "      <td>Comm&amp;Mgmt</td>\n",
       "      <td>No</td>\n",
       "      <td>75.0</td>\n",
       "      <td>Mkt&amp;Fin</td>\n",
       "      <td>57.80</td>\n",
       "      <td>Placed</td>\n",
       "      <td>250000.0</td>\n",
       "    </tr>\n",
       "    <tr>\n",
       "      <th>3</th>\n",
       "      <td>4</td>\n",
       "      <td>M</td>\n",
       "      <td>56.00</td>\n",
       "      <td>Central</td>\n",
       "      <td>52.00</td>\n",
       "      <td>Central</td>\n",
       "      <td>Science</td>\n",
       "      <td>52.00</td>\n",
       "      <td>Sci&amp;Tech</td>\n",
       "      <td>No</td>\n",
       "      <td>66.0</td>\n",
       "      <td>Mkt&amp;HR</td>\n",
       "      <td>59.43</td>\n",
       "      <td>Not Placed</td>\n",
       "      <td>NaN</td>\n",
       "    </tr>\n",
       "    <tr>\n",
       "      <th>4</th>\n",
       "      <td>5</td>\n",
       "      <td>M</td>\n",
       "      <td>85.80</td>\n",
       "      <td>Central</td>\n",
       "      <td>73.60</td>\n",
       "      <td>Central</td>\n",
       "      <td>Commerce</td>\n",
       "      <td>73.30</td>\n",
       "      <td>Comm&amp;Mgmt</td>\n",
       "      <td>No</td>\n",
       "      <td>96.8</td>\n",
       "      <td>Mkt&amp;Fin</td>\n",
       "      <td>55.50</td>\n",
       "      <td>Placed</td>\n",
       "      <td>425000.0</td>\n",
       "    </tr>\n",
       "    <tr>\n",
       "      <th>...</th>\n",
       "      <td>...</td>\n",
       "      <td>...</td>\n",
       "      <td>...</td>\n",
       "      <td>...</td>\n",
       "      <td>...</td>\n",
       "      <td>...</td>\n",
       "      <td>...</td>\n",
       "      <td>...</td>\n",
       "      <td>...</td>\n",
       "      <td>...</td>\n",
       "      <td>...</td>\n",
       "      <td>...</td>\n",
       "      <td>...</td>\n",
       "      <td>...</td>\n",
       "      <td>...</td>\n",
       "    </tr>\n",
       "    <tr>\n",
       "      <th>210</th>\n",
       "      <td>211</td>\n",
       "      <td>M</td>\n",
       "      <td>80.60</td>\n",
       "      <td>Others</td>\n",
       "      <td>82.00</td>\n",
       "      <td>Others</td>\n",
       "      <td>Commerce</td>\n",
       "      <td>77.60</td>\n",
       "      <td>Comm&amp;Mgmt</td>\n",
       "      <td>No</td>\n",
       "      <td>91.0</td>\n",
       "      <td>Mkt&amp;Fin</td>\n",
       "      <td>74.49</td>\n",
       "      <td>Placed</td>\n",
       "      <td>400000.0</td>\n",
       "    </tr>\n",
       "    <tr>\n",
       "      <th>211</th>\n",
       "      <td>212</td>\n",
       "      <td>M</td>\n",
       "      <td>58.00</td>\n",
       "      <td>Others</td>\n",
       "      <td>60.00</td>\n",
       "      <td>Others</td>\n",
       "      <td>Science</td>\n",
       "      <td>72.00</td>\n",
       "      <td>Sci&amp;Tech</td>\n",
       "      <td>No</td>\n",
       "      <td>74.0</td>\n",
       "      <td>Mkt&amp;Fin</td>\n",
       "      <td>53.62</td>\n",
       "      <td>Placed</td>\n",
       "      <td>275000.0</td>\n",
       "    </tr>\n",
       "    <tr>\n",
       "      <th>212</th>\n",
       "      <td>213</td>\n",
       "      <td>M</td>\n",
       "      <td>67.00</td>\n",
       "      <td>Others</td>\n",
       "      <td>67.00</td>\n",
       "      <td>Others</td>\n",
       "      <td>Commerce</td>\n",
       "      <td>73.00</td>\n",
       "      <td>Comm&amp;Mgmt</td>\n",
       "      <td>Yes</td>\n",
       "      <td>59.0</td>\n",
       "      <td>Mkt&amp;Fin</td>\n",
       "      <td>69.72</td>\n",
       "      <td>Placed</td>\n",
       "      <td>295000.0</td>\n",
       "    </tr>\n",
       "    <tr>\n",
       "      <th>213</th>\n",
       "      <td>214</td>\n",
       "      <td>F</td>\n",
       "      <td>74.00</td>\n",
       "      <td>Others</td>\n",
       "      <td>66.00</td>\n",
       "      <td>Others</td>\n",
       "      <td>Commerce</td>\n",
       "      <td>58.00</td>\n",
       "      <td>Comm&amp;Mgmt</td>\n",
       "      <td>No</td>\n",
       "      <td>70.0</td>\n",
       "      <td>Mkt&amp;HR</td>\n",
       "      <td>60.23</td>\n",
       "      <td>Placed</td>\n",
       "      <td>204000.0</td>\n",
       "    </tr>\n",
       "    <tr>\n",
       "      <th>214</th>\n",
       "      <td>215</td>\n",
       "      <td>M</td>\n",
       "      <td>62.00</td>\n",
       "      <td>Central</td>\n",
       "      <td>58.00</td>\n",
       "      <td>Others</td>\n",
       "      <td>Science</td>\n",
       "      <td>53.00</td>\n",
       "      <td>Comm&amp;Mgmt</td>\n",
       "      <td>No</td>\n",
       "      <td>89.0</td>\n",
       "      <td>Mkt&amp;HR</td>\n",
       "      <td>60.22</td>\n",
       "      <td>Not Placed</td>\n",
       "      <td>NaN</td>\n",
       "    </tr>\n",
       "  </tbody>\n",
       "</table>\n",
       "<p>215 rows × 15 columns</p>\n",
       "</div>"
      ],
      "text/plain": [
       "     sl_no gender  ssc_p    ssc_b  hsc_p    hsc_b     hsc_s  degree_p  \\\n",
       "0        1      M  67.00   Others  91.00   Others  Commerce     58.00   \n",
       "1        2      M  79.33  Central  78.33   Others   Science     77.48   \n",
       "2        3      M  65.00  Central  68.00  Central      Arts     64.00   \n",
       "3        4      M  56.00  Central  52.00  Central   Science     52.00   \n",
       "4        5      M  85.80  Central  73.60  Central  Commerce     73.30   \n",
       "..     ...    ...    ...      ...    ...      ...       ...       ...   \n",
       "210    211      M  80.60   Others  82.00   Others  Commerce     77.60   \n",
       "211    212      M  58.00   Others  60.00   Others   Science     72.00   \n",
       "212    213      M  67.00   Others  67.00   Others  Commerce     73.00   \n",
       "213    214      F  74.00   Others  66.00   Others  Commerce     58.00   \n",
       "214    215      M  62.00  Central  58.00   Others   Science     53.00   \n",
       "\n",
       "      degree_t workex  etest_p specialisation  mba_p      status    salary  \n",
       "0     Sci&Tech     No     55.0         Mkt&HR  58.80      Placed  270000.0  \n",
       "1     Sci&Tech    Yes     86.5        Mkt&Fin  66.28      Placed  200000.0  \n",
       "2    Comm&Mgmt     No     75.0        Mkt&Fin  57.80      Placed  250000.0  \n",
       "3     Sci&Tech     No     66.0         Mkt&HR  59.43  Not Placed       NaN  \n",
       "4    Comm&Mgmt     No     96.8        Mkt&Fin  55.50      Placed  425000.0  \n",
       "..         ...    ...      ...            ...    ...         ...       ...  \n",
       "210  Comm&Mgmt     No     91.0        Mkt&Fin  74.49      Placed  400000.0  \n",
       "211   Sci&Tech     No     74.0        Mkt&Fin  53.62      Placed  275000.0  \n",
       "212  Comm&Mgmt    Yes     59.0        Mkt&Fin  69.72      Placed  295000.0  \n",
       "213  Comm&Mgmt     No     70.0         Mkt&HR  60.23      Placed  204000.0  \n",
       "214  Comm&Mgmt     No     89.0         Mkt&HR  60.22  Not Placed       NaN  \n",
       "\n",
       "[215 rows x 15 columns]"
      ]
     },
     "execution_count": 4,
     "metadata": {},
     "output_type": "execute_result"
    }
   ],
   "source": [
    "dataset"
   ]
  },
  {
   "cell_type": "code",
   "execution_count": 5,
   "id": "1be4dee6-3f41-450a-a866-120ffd3c8c03",
   "metadata": {},
   "outputs": [
    {
     "data": {
      "text/plain": [
       "sl_no              0\n",
       "gender             0\n",
       "ssc_p              0\n",
       "ssc_b              0\n",
       "hsc_p              0\n",
       "hsc_b              0\n",
       "hsc_s              0\n",
       "degree_p           0\n",
       "degree_t           0\n",
       "workex             0\n",
       "etest_p            0\n",
       "specialisation     0\n",
       "mba_p              0\n",
       "status             0\n",
       "salary            67\n",
       "dtype: int64"
      ]
     },
     "execution_count": 5,
     "metadata": {},
     "output_type": "execute_result"
    }
   ],
   "source": [
    "dataset.isnull().sum()"
   ]
  },
  {
   "cell_type": "code",
   "execution_count": 6,
   "id": "aca39c2e-6278-4664-b916-0e657fafa673",
   "metadata": {},
   "outputs": [],
   "source": [
    "# 1. Replace the NaN values with correct value. And justify why you have chosen the same.\n",
    "\n",
    "dataset[\"salary\"].fillna(0,inplace=True)"
   ]
  },
  {
   "cell_type": "code",
   "execution_count": 7,
   "id": "c208a364-7e74-4e67-b7d4-b84c8671e55b",
   "metadata": {},
   "outputs": [
    {
     "data": {
      "text/plain": [
       "sl_no             0\n",
       "gender            0\n",
       "ssc_p             0\n",
       "ssc_b             0\n",
       "hsc_p             0\n",
       "hsc_b             0\n",
       "hsc_s             0\n",
       "degree_p          0\n",
       "degree_t          0\n",
       "workex            0\n",
       "etest_p           0\n",
       "specialisation    0\n",
       "mba_p             0\n",
       "status            0\n",
       "salary            0\n",
       "dtype: int64"
      ]
     },
     "execution_count": 7,
     "metadata": {},
     "output_type": "execute_result"
    }
   ],
   "source": [
    "dataset.isnull().sum()"
   ]
  },
  {
   "cell_type": "code",
   "execution_count": 8,
   "id": "b26e03dd-0833-472b-a380-0b315fa63170",
   "metadata": {},
   "outputs": [
    {
     "name": "stdout",
     "output_type": "stream",
     "text": [
      "How many of them are not placed: 67\n"
     ]
    }
   ],
   "source": [
    "# 2. How many of them are not placed?\n",
    "\n",
    "counts= dataset['status'].value_counts().get('Not Placed')\n",
    "print(\"How many of them are not placed:\", counts)"
   ]
  },
  {
   "cell_type": "code",
   "execution_count": 9,
   "id": "9d30ac72-cb1b-41eb-8109-4acf78606354",
   "metadata": {},
   "outputs": [],
   "source": [
    "# 3. Find the reason for non placement from the dataset?\n",
    "# I have checked as my best level but unable to find that much difference"
   ]
  },
  {
   "cell_type": "code",
   "execution_count": 10,
   "id": "4ea2226c-d8c9-4853-8a35-4408a47d1ec6",
   "metadata": {},
   "outputs": [
    {
     "data": {
      "text/html": [
       "<div>\n",
       "<style scoped>\n",
       "    .dataframe tbody tr th:only-of-type {\n",
       "        vertical-align: middle;\n",
       "    }\n",
       "\n",
       "    .dataframe tbody tr th {\n",
       "        vertical-align: top;\n",
       "    }\n",
       "\n",
       "    .dataframe thead th {\n",
       "        text-align: right;\n",
       "    }\n",
       "</style>\n",
       "<table border=\"1\" class=\"dataframe\">\n",
       "  <thead>\n",
       "    <tr style=\"text-align: right;\">\n",
       "      <th></th>\n",
       "      <th>sl_no</th>\n",
       "      <th>ssc_p</th>\n",
       "      <th>hsc_p</th>\n",
       "      <th>degree_p</th>\n",
       "      <th>etest_p</th>\n",
       "      <th>mba_p</th>\n",
       "      <th>salary</th>\n",
       "    </tr>\n",
       "  </thead>\n",
       "  <tbody>\n",
       "    <tr>\n",
       "      <th>sl_no</th>\n",
       "      <td>1.000000</td>\n",
       "      <td>-0.078155</td>\n",
       "      <td>-0.085711</td>\n",
       "      <td>-0.088281</td>\n",
       "      <td>0.063636</td>\n",
       "      <td>0.022327</td>\n",
       "      <td>0.051550</td>\n",
       "    </tr>\n",
       "    <tr>\n",
       "      <th>ssc_p</th>\n",
       "      <td>-0.078155</td>\n",
       "      <td>1.000000</td>\n",
       "      <td>0.511472</td>\n",
       "      <td>0.538404</td>\n",
       "      <td>0.261993</td>\n",
       "      <td>0.388478</td>\n",
       "      <td>0.023571</td>\n",
       "    </tr>\n",
       "    <tr>\n",
       "      <th>hsc_p</th>\n",
       "      <td>-0.085711</td>\n",
       "      <td>0.511472</td>\n",
       "      <td>1.000000</td>\n",
       "      <td>0.434206</td>\n",
       "      <td>0.245113</td>\n",
       "      <td>0.354823</td>\n",
       "      <td>0.054506</td>\n",
       "    </tr>\n",
       "    <tr>\n",
       "      <th>degree_p</th>\n",
       "      <td>-0.088281</td>\n",
       "      <td>0.538404</td>\n",
       "      <td>0.434206</td>\n",
       "      <td>1.000000</td>\n",
       "      <td>0.224470</td>\n",
       "      <td>0.402364</td>\n",
       "      <td>-0.014148</td>\n",
       "    </tr>\n",
       "    <tr>\n",
       "      <th>etest_p</th>\n",
       "      <td>0.063636</td>\n",
       "      <td>0.261993</td>\n",
       "      <td>0.245113</td>\n",
       "      <td>0.224470</td>\n",
       "      <td>1.000000</td>\n",
       "      <td>0.218055</td>\n",
       "      <td>0.152829</td>\n",
       "    </tr>\n",
       "    <tr>\n",
       "      <th>mba_p</th>\n",
       "      <td>0.022327</td>\n",
       "      <td>0.388478</td>\n",
       "      <td>0.354823</td>\n",
       "      <td>0.402364</td>\n",
       "      <td>0.218055</td>\n",
       "      <td>1.000000</td>\n",
       "      <td>0.146324</td>\n",
       "    </tr>\n",
       "    <tr>\n",
       "      <th>salary</th>\n",
       "      <td>0.051550</td>\n",
       "      <td>0.023571</td>\n",
       "      <td>0.054506</td>\n",
       "      <td>-0.014148</td>\n",
       "      <td>0.152829</td>\n",
       "      <td>0.146324</td>\n",
       "      <td>1.000000</td>\n",
       "    </tr>\n",
       "  </tbody>\n",
       "</table>\n",
       "</div>"
      ],
      "text/plain": [
       "             sl_no     ssc_p     hsc_p  degree_p   etest_p     mba_p    salary\n",
       "sl_no     1.000000 -0.078155 -0.085711 -0.088281  0.063636  0.022327  0.051550\n",
       "ssc_p    -0.078155  1.000000  0.511472  0.538404  0.261993  0.388478  0.023571\n",
       "hsc_p    -0.085711  0.511472  1.000000  0.434206  0.245113  0.354823  0.054506\n",
       "degree_p -0.088281  0.538404  0.434206  1.000000  0.224470  0.402364 -0.014148\n",
       "etest_p   0.063636  0.261993  0.245113  0.224470  1.000000  0.218055  0.152829\n",
       "mba_p     0.022327  0.388478  0.354823  0.402364  0.218055  1.000000  0.146324\n",
       "salary    0.051550  0.023571  0.054506 -0.014148  0.152829  0.146324  1.000000"
      ]
     },
     "execution_count": 10,
     "metadata": {},
     "output_type": "execute_result"
    }
   ],
   "source": [
    "# 4. What kind of relation between salary and mba_p\n",
    "r_dataset = pd.read_csv(\"PrePlacement_Quan.csv\")\n",
    "r_dataset.corr()\n",
    "\n",
    "#import seaborn as sea\n",
    "#import matplotlib.pyplot as plt\n",
    "#dataset[['salary','mba_p']].plot(kind='line')"
   ]
  },
  {
   "cell_type": "code",
   "execution_count": 11,
   "id": "17e88fb9-08a8-49ee-98d9-85d6af948704",
   "metadata": {},
   "outputs": [],
   "source": [
    "# No Pattern between those two columns"
   ]
  },
  {
   "cell_type": "code",
   "execution_count": 44,
   "id": "5cf07774-17f2-41b6-a9a9-300a57c2284c",
   "metadata": {},
   "outputs": [
    {
     "data": {
      "text/plain": [
       "200000.0"
      ]
     },
     "execution_count": 44,
     "metadata": {},
     "output_type": "execute_result"
    }
   ],
   "source": [
    "# 5. Which specialisation is getting minimum salary?\n",
    "\n",
    "sort_sal=sorted(set(dataset['salary']))\n",
    "if len(sort_sal)>1:\n",
    "    second_min_sal = sort_sal[1]\n",
    "second_min_sal"
   ]
  },
  {
   "cell_type": "code",
   "execution_count": 45,
   "id": "03bc560a-37dd-42e7-a59f-186e4ee74782",
   "metadata": {},
   "outputs": [
    {
     "name": "stdout",
     "output_type": "stream",
     "text": [
      "How many of them getting above 500000 salary: [940000.0, 690000.0, 650000.0]\n"
     ]
    }
   ],
   "source": [
    "# 6. How many of them getting above 500000 salary?\n",
    "\n",
    "above_sal=[]\n",
    "for high_sal in dataset['salary']:\n",
    "    if(high_sal>500000):\n",
    "        above_sal.append(high_sal)\n",
    "above_sal\n",
    "print(\"How many of them getting above 500000 salary:\",above_sal)"
   ]
  },
  {
   "cell_type": "code",
   "execution_count": 46,
   "id": "ab7ec245-949c-4851-ba41-9377b4d281ab",
   "metadata": {},
   "outputs": [
    {
     "data": {
      "text/plain": [
       "F_onewayResult(statistic=98.64487057324706, pvalue=4.672547689133573e-21)"
      ]
     },
     "execution_count": 46,
     "metadata": {},
     "output_type": "execute_result"
    }
   ],
   "source": [
    "# 7. Test the Analysis of Variance between etest_p and mba_p at signifance level 5%.(Make decision using Hypothesis Testing)\n",
    "\n",
    "\n",
    "#Problem statement:\n",
    "# Its One Way Classification\n",
    "# H0 - There are no significants between these two data\n",
    "# H1 - There are significants between these two data\n",
    "\n",
    "import scipy.stats as stats\n",
    "stats.f_oneway(dataset['etest_p'],dataset['mba_p'])"
   ]
  },
  {
   "cell_type": "code",
   "execution_count": 47,
   "id": "6fdc43c3-5b50-4564-a712-5e95e036d50e",
   "metadata": {},
   "outputs": [],
   "source": [
    "# As per the requirement if pvalue is < 5% then Reject Null (there is significant values) but this scenario pvalue is 4.67\n",
    "# So these two data is Reject Null (There is significant values) (Alternate hypothesis)"
   ]
  },
  {
   "cell_type": "code",
   "execution_count": 48,
   "id": "6cc040be-f4f3-453b-92dd-8d7ff5f6d41e",
   "metadata": {},
   "outputs": [],
   "source": [
    "# 8. Test the similarity between the degree_t(Sci&Tech) and specialisation(Mkt&HR) with respect to salary at significance level of 5%.\n",
    "#(Make decision using Hypothesis Testing)\n",
    "\n",
    "#Problem statement:\n",
    "# Its Two Way Classification\n",
    "# H0 - There are no significants between these two data\n",
    "# H1 - There are significants between these two data\n",
    "\n",
    "from statsmodels.formula.api import ols\n",
    "import statsmodels.api as sm\n",
    "\n",
    "#formula = 'salary ~ C(degree_t[\"Sci&Tech\"]) + C(specialisation[\"Mkt&HR\"]) +  C(degree_t[\"Sci&Tech\"]):C(specialisation[\"Mkt&HR\"])'\n",
    "def twoway(dataset,degree_t,specialisation):\n",
    "    formula = 'salary ~ C(degree_t) + C(specialisation) +  C(degree_t):C(specialisation)'\n",
    "    model = ols(formula, dataset).fit()\n",
    "    anova = sm.stats.anova_lm(model,type=2)\n",
    "    return anova"
   ]
  },
  {
   "cell_type": "code",
   "execution_count": 49,
   "id": "ab76850d-64f1-42d9-9935-53760fb85639",
   "metadata": {},
   "outputs": [
    {
     "data": {
      "text/html": [
       "<div>\n",
       "<style scoped>\n",
       "    .dataframe tbody tr th:only-of-type {\n",
       "        vertical-align: middle;\n",
       "    }\n",
       "\n",
       "    .dataframe tbody tr th {\n",
       "        vertical-align: top;\n",
       "    }\n",
       "\n",
       "    .dataframe thead th {\n",
       "        text-align: right;\n",
       "    }\n",
       "</style>\n",
       "<table border=\"1\" class=\"dataframe\">\n",
       "  <thead>\n",
       "    <tr style=\"text-align: right;\">\n",
       "      <th></th>\n",
       "      <th>df</th>\n",
       "      <th>sum_sq</th>\n",
       "      <th>mean_sq</th>\n",
       "      <th>F</th>\n",
       "      <th>PR(&gt;F)</th>\n",
       "    </tr>\n",
       "  </thead>\n",
       "  <tbody>\n",
       "    <tr>\n",
       "      <th>C(degree_t)</th>\n",
       "      <td>2.0</td>\n",
       "      <td>8.032042e+10</td>\n",
       "      <td>4.016021e+10</td>\n",
       "      <td>1.803516</td>\n",
       "      <td>0.167273</td>\n",
       "    </tr>\n",
       "    <tr>\n",
       "      <th>C(specialisation)</th>\n",
       "      <td>1.0</td>\n",
       "      <td>3.815378e+11</td>\n",
       "      <td>3.815378e+11</td>\n",
       "      <td>17.134112</td>\n",
       "      <td>0.000051</td>\n",
       "    </tr>\n",
       "    <tr>\n",
       "      <th>C(degree_t):C(specialisation)</th>\n",
       "      <td>2.0</td>\n",
       "      <td>1.101264e+10</td>\n",
       "      <td>5.506318e+09</td>\n",
       "      <td>0.247278</td>\n",
       "      <td>0.781152</td>\n",
       "    </tr>\n",
       "    <tr>\n",
       "      <th>Residual</th>\n",
       "      <td>209.0</td>\n",
       "      <td>4.653956e+12</td>\n",
       "      <td>2.226773e+10</td>\n",
       "      <td>NaN</td>\n",
       "      <td>NaN</td>\n",
       "    </tr>\n",
       "  </tbody>\n",
       "</table>\n",
       "</div>"
      ],
      "text/plain": [
       "                                  df        sum_sq       mean_sq          F  \\\n",
       "C(degree_t)                      2.0  8.032042e+10  4.016021e+10   1.803516   \n",
       "C(specialisation)                1.0  3.815378e+11  3.815378e+11  17.134112   \n",
       "C(degree_t):C(specialisation)    2.0  1.101264e+10  5.506318e+09   0.247278   \n",
       "Residual                       209.0  4.653956e+12  2.226773e+10        NaN   \n",
       "\n",
       "                                 PR(>F)  \n",
       "C(degree_t)                    0.167273  \n",
       "C(specialisation)              0.000051  \n",
       "C(degree_t):C(specialisation)  0.781152  \n",
       "Residual                            NaN  "
      ]
     },
     "execution_count": 49,
     "metadata": {},
     "output_type": "execute_result"
    }
   ],
   "source": [
    "twoway(dataset,'Sci&Tech','Mkt&HR')"
   ]
  },
  {
   "cell_type": "code",
   "execution_count": 50,
   "id": "a235f78c-86eb-441f-b194-2c915d684ecf",
   "metadata": {},
   "outputs": [],
   "source": [
    "# As per the requirement if pvalue is < 5% then Reject Null (there is significant values) but this scenario pvalue is 78%\n",
    "# So these data is Accept Null (There is no significant values) (null hypothesis)"
   ]
  },
  {
   "cell_type": "code",
   "execution_count": 51,
   "id": "c8e85ed7-c099-4b1d-af0f-7371204b6bac",
   "metadata": {},
   "outputs": [
    {
     "data": {
      "text/plain": [
       "<Axes: xlabel='salary', ylabel='Density'>"
      ]
     },
     "execution_count": 51,
     "metadata": {},
     "output_type": "execute_result"
    },
    {
     "data": {
      "image/png": "[encoded data removed]",
      "text/plain": [
       "<Figure size 640x480 with 1 Axes>"
      ]
     },
     "metadata": {},
     "output_type": "display_data"
    }
   ],
   "source": [
    "# 9. Convert the normal distribution to standard normal distribution for salary column\n",
    "\n",
    "#Normal Distribution\n",
    "import seaborn as sea\n",
    "sea.distplot(dataset[\"salary\"])"
   ]
  },
  {
   "cell_type": "code",
   "execution_count": 52,
   "id": "af3ce488-9663-4871-ade9-0ce2c294ff0d",
   "metadata": {},
   "outputs": [],
   "source": [
    "#Standared Normal Distribution\n",
    "def SND(dataset):\n",
    "    import seaborn as sea\n",
    "    mean = dataset.mean()\n",
    "    std = dataset.std()\n",
    "    value = [i for i in dataset]\n",
    "    z_score = [((x-mean)/std) for x in value]\n",
    "    sea.distplot(z_score,kde=True)"
   ]
  },
  {
   "cell_type": "code",
   "execution_count": 53,
   "id": "378a8c52-aa94-40fe-a61c-9a34b81a21b7",
   "metadata": {},
   "outputs": [
    {
     "data": {
      "image/png": "[encoded data removed]",
      "text/plain": [
       "<Figure size 640x480 with 1 Axes>"
      ]
     },
     "metadata": {},
     "output_type": "display_data"
    }
   ],
   "source": [
    "SND(dataset['salary'])"
   ]
  },
  {
   "cell_type": "code",
   "execution_count": 54,
   "id": "7e78d9fe-2474-4775-b1d6-8b292276ec6c",
   "metadata": {},
   "outputs": [],
   "source": [
    "# 10. What is the probability Density Function of the salary range from 700000 to 900000?\n",
    "\n",
    "def get_pdf_probability(dataset,startrange,endrange):\n",
    "    from matplotlib import pyplot\n",
    "    from scipy.stats import norm\n",
    "    import seaborn as sea\n",
    "    ax = sea.distplot(dataset,kde=True,kde_kws={'color':'blue'},color='Green')\n",
    "    pyplot.axvline(startrange,color='Green')\n",
    "    pyplot.axvline(endrange,color='Red')\n",
    "    #generate sample\n",
    "    sample = dataset\n",
    "    #calculate parameters\n",
    "    sample_mean = sample.mean()\n",
    "    sample_std = sample.std()\n",
    "    print('Mean=%.3f, Standard Deviation=%.3f' % (sample_mean, sample_std)) # %.3f mean is 3.147\n",
    "    #define the distibution\n",
    "    dist = norm(sample_mean, sample_std)\n",
    "    # sample probability for a range of outcomes\n",
    "    values = np.arange(startrange,endrange,0.1)\n",
    "    probability = [dist.pdf(value) for value in values]\n",
    "    prob = sum(probability)\n",
    "    print(\"The are between range ({},{}):{}\".format(startrange,endrange,sum(probability)))\n",
    "    return prob\n",
    "    "
   ]
  },
  {
   "cell_type": "code",
   "execution_count": 55,
   "id": "e273204f-5308-4eec-ab0d-c55414eff050",
   "metadata": {},
   "outputs": [
    {
     "name": "stdout",
     "output_type": "stream",
     "text": [
      "Mean=198702.326, Standard Deviation=154780.927\n",
      "The are between range (700000,800000):0.005490608556823928\n"
     ]
    },
    {
     "data": {
      "text/plain": [
       "0.005490608556823928"
      ]
     },
     "execution_count": 55,
     "metadata": {},
     "output_type": "execute_result"
    },
    {
     "data": {
      "image/png": "[encoded data removed]",
      "text/plain": [
       "<Figure size 640x480 with 1 Axes>"
      ]
     },
     "metadata": {},
     "output_type": "display_data"
    }
   ],
   "source": [
    "get_pdf_probability(dataset[\"salary\"],700000,800000)"
   ]
  },
  {
   "cell_type": "code",
   "execution_count": 56,
   "id": "fe36495b-b5ff-41f8-a0c1-63452d6d8fc2",
   "metadata": {},
   "outputs": [
    {
     "data": {
      "text/plain": [
       "TtestResult(statistic=5.0049844583693615, pvalue=5.517920600505392e-06, df=58)"
      ]
     },
     "execution_count": 56,
     "metadata": {},
     "output_type": "execute_result"
    }
   ],
   "source": [
    "# 11. Test the similarity between the degree_t(Sci&Tech)with respect to etest_p and mba_p at significance level of 5%.(Make decision using Hypothesis Testing)\n",
    "\n",
    "# Problem Statement\n",
    "# Its is Paired Test - Dependent Sample\n",
    "# Same groups (Sci&Tech) but different condition (etest_p & mba_p)\n",
    "\n",
    "from scipy.stats import ttest_rel\n",
    "dataset = dataset.dropna()\n",
    "etest_p = dataset[dataset['degree_t']==\"Sci&Tech\"][\"etest_p\"]\n",
    "mba_p = dataset[dataset['degree_t']==\"Sci&Tech\"][\"mba_p\"]\n",
    "ttest_rel(etest_p,mba_p)"
   ]
  },
  {
   "cell_type": "code",
   "execution_count": 57,
   "id": "46ff7600-792c-4f64-bf3f-e24ea91e94cf",
   "metadata": {},
   "outputs": [],
   "source": [
    "# As per the requirement significant value is 5% between the given dataset but we have 5.5%\n",
    "# So this is Accept Null hypothesis (the given dataset value has no significant values)"
   ]
  },
  {
   "cell_type": "code",
   "execution_count": 58,
   "id": "1b38db3c-521b-449c-8acf-b07f1f53008f",
   "metadata": {},
   "outputs": [
    {
     "data": {
      "text/html": [
       "<div>\n",
       "<style scoped>\n",
       "    .dataframe tbody tr th:only-of-type {\n",
       "        vertical-align: middle;\n",
       "    }\n",
       "\n",
       "    .dataframe tbody tr th {\n",
       "        vertical-align: top;\n",
       "    }\n",
       "\n",
       "    .dataframe thead th {\n",
       "        text-align: right;\n",
       "    }\n",
       "</style>\n",
       "<table border=\"1\" class=\"dataframe\">\n",
       "  <thead>\n",
       "    <tr style=\"text-align: right;\">\n",
       "      <th></th>\n",
       "      <th>ssc_p</th>\n",
       "      <th>hsc_p</th>\n",
       "      <th>degree_p</th>\n",
       "      <th>etest_p</th>\n",
       "      <th>mba_p</th>\n",
       "      <th>salary</th>\n",
       "    </tr>\n",
       "  </thead>\n",
       "  <tbody>\n",
       "    <tr>\n",
       "      <th>ssc_p</th>\n",
       "      <td>1.000000</td>\n",
       "      <td>0.511472</td>\n",
       "      <td>0.538404</td>\n",
       "      <td>0.261993</td>\n",
       "      <td>0.388478</td>\n",
       "      <td>0.023571</td>\n",
       "    </tr>\n",
       "    <tr>\n",
       "      <th>hsc_p</th>\n",
       "      <td>0.511472</td>\n",
       "      <td>1.000000</td>\n",
       "      <td>0.434206</td>\n",
       "      <td>0.245113</td>\n",
       "      <td>0.354823</td>\n",
       "      <td>0.054506</td>\n",
       "    </tr>\n",
       "    <tr>\n",
       "      <th>degree_p</th>\n",
       "      <td>0.538404</td>\n",
       "      <td>0.434206</td>\n",
       "      <td>1.000000</td>\n",
       "      <td>0.224470</td>\n",
       "      <td>0.402364</td>\n",
       "      <td>-0.014148</td>\n",
       "    </tr>\n",
       "    <tr>\n",
       "      <th>etest_p</th>\n",
       "      <td>0.261993</td>\n",
       "      <td>0.245113</td>\n",
       "      <td>0.224470</td>\n",
       "      <td>1.000000</td>\n",
       "      <td>0.218055</td>\n",
       "      <td>0.152829</td>\n",
       "    </tr>\n",
       "    <tr>\n",
       "      <th>mba_p</th>\n",
       "      <td>0.388478</td>\n",
       "      <td>0.354823</td>\n",
       "      <td>0.402364</td>\n",
       "      <td>0.218055</td>\n",
       "      <td>1.000000</td>\n",
       "      <td>0.146324</td>\n",
       "    </tr>\n",
       "    <tr>\n",
       "      <th>salary</th>\n",
       "      <td>0.023571</td>\n",
       "      <td>0.054506</td>\n",
       "      <td>-0.014148</td>\n",
       "      <td>0.152829</td>\n",
       "      <td>0.146324</td>\n",
       "      <td>1.000000</td>\n",
       "    </tr>\n",
       "  </tbody>\n",
       "</table>\n",
       "</div>"
      ],
      "text/plain": [
       "             ssc_p     hsc_p  degree_p   etest_p     mba_p    salary\n",
       "ssc_p     1.000000  0.511472  0.538404  0.261993  0.388478  0.023571\n",
       "hsc_p     0.511472  1.000000  0.434206  0.245113  0.354823  0.054506\n",
       "degree_p  0.538404  0.434206  1.000000  0.224470  0.402364 -0.014148\n",
       "etest_p   0.261993  0.245113  0.224470  1.000000  0.218055  0.152829\n",
       "mba_p     0.388478  0.354823  0.402364  0.218055  1.000000  0.146324\n",
       "salary    0.023571  0.054506 -0.014148  0.152829  0.146324  1.000000"
      ]
     },
     "execution_count": 58,
     "metadata": {},
     "output_type": "execute_result"
    }
   ],
   "source": [
    "# 12. Which parameter is highly correlated with salary?\n",
    "\n",
    "dataset=pd.read_csv(\"PrePlacement_Quan.csv\")\n",
    "dataset = dataset.drop(\"sl_no\",axis=1)\n",
    "dataset.corr()"
   ]
  },
  {
   "cell_type": "code",
   "execution_count": 59,
   "id": "333244a9-a4e1-4ba9-8492-344ec93fc14e",
   "metadata": {},
   "outputs": [],
   "source": [
    "# Which parameter is highly correlated with salary: 0.152829"
   ]
  },
  {
   "cell_type": "code",
   "execution_count": 60,
   "id": "c87d77b4-85a3-480b-a678-4495a98930b7",
   "metadata": {},
   "outputs": [],
   "source": [
    "# 13. Plot any useful graph and explain it."
   ]
  },
  {
   "cell_type": "code",
   "execution_count": 74,
   "id": "3fa72cce-1f46-4fc8-a70e-c9bfdd452ae1",
   "metadata": {},
   "outputs": [
    {
     "data": {
      "text/plain": [
       "<seaborn.axisgrid.PairGrid at 0x1759e6e9350>"
      ]
     },
     "execution_count": 74,
     "metadata": {},
     "output_type": "execute_result"
    },
    {
     "data": {
      "image/png": "[encoded data removed]",
      "text/plain": [
       "<Figure size 250x250 with 1 Axes>"
      ]
     },
     "metadata": {},
     "output_type": "display_data"
    }
   ],
   "source": [
    "#sea.pairplot(dataset[[\"salary\",\"ssc_p\"]])\n",
    "g_dataset = pd.read_csv(\"Placement.csv\")\n",
    "sea.pairplot(dataset,x_vars=['degree_p'],y_vars=['salary'])"
   ]
  },
  {
   "cell_type": "code",
   "execution_count": 75,
   "id": "014f0df4-71a1-4d61-bb59-8da446715c7d",
   "metadata": {},
   "outputs": [],
   "source": [
    "# In this graph its showmn as salary for as per their degree pass mark."
   ]
  },
  {
   "cell_type": "code",
   "execution_count": null,
   "id": "69a00807-a2f4-4022-977b-30db094357c1",
   "metadata": {},
   "outputs": [],
   "source": []
  }
 ],
 "metadata": {
  "kernelspec": {
   "display_name": "Python 3 (ipykernel)",
   "language": "python",
   "name": "python3"
  },
  "language_info": {
   "codemirror_mode": {
    "name": "ipython",
    "version": 3
   },
   "file_extension": ".py",
   "mimetype": "text/x-python",
   "name": "python",
   "nbconvert_exporter": "python",
   "pygments_lexer": "ipython3",
   "version": "3.11.5"
  }
 },
 "nbformat": 4,
 "nbformat_minor": 5
}
